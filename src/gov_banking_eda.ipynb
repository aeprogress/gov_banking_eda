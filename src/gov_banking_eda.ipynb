{
 "cells": [
  {
   "cell_type": "code",
   "execution_count": 61,
   "metadata": {},
   "outputs": [
    {
     "name": "stdout",
     "output_type": "stream",
     "text": [
      "Requirement already satisfied: ipynb in /opt/conda/lib/python3.9/site-packages (0.5.1)\n",
      "Requirement already satisfied: arabic-reshaper in /opt/conda/lib/python3.9/site-packages (2.1.3)\n",
      "Requirement already satisfied: future in /opt/conda/lib/python3.9/site-packages (from arabic-reshaper) (0.18.2)\n",
      "Requirement already satisfied: setuptools in /opt/conda/lib/python3.9/site-packages (from arabic-reshaper) (61.2.0)\n",
      "Requirement already satisfied: python-bidi in /opt/conda/lib/python3.9/site-packages (0.4.2)\n",
      "Requirement already satisfied: six in /opt/conda/lib/python3.9/site-packages (from python-bidi) (1.16.0)\n"
     ]
    }
   ],
   "source": [
    "!pip install ipynb\n",
    "!pip install --upgrade arabic-reshaper\n",
    "!pip install python-bidi"
   ]
  },
  {
   "cell_type": "code",
   "execution_count": 1,
   "metadata": {},
   "outputs": [],
   "source": [
    "# Supress wornings.\n",
    "import warnings\n",
    "warnings.filterwarnings('ignore')\n",
    "warnings.warn('DelftStack')\n",
    "warnings.warn('Do not show this message')\n",
    "\n",
    "# Import team's modules.\n",
    "from ipynb.fs.full.abdulrahman_eda import *\n",
    "from ipynb.fs.full.abdulmalik_eda import *\n",
    "from ipynb.fs.full.sara_eda import *\n",
    "from ipynb.fs.full.amal_eda import *\n",
    "from ipynb.fs.full.lina_eda import *\n",
    "from ipynb.fs.full.saad_eda import *\n",
    "\n",
    "# Import necessary libraties.\n",
    "import pandas as pd\n",
    "import numpy as np\n",
    "import matplotlib.pyplot as plt\n",
    "from matplotlib import rcParams\n",
    "import seaborn as sns\n",
    "import arabic_reshaper\n",
    "from bidi.algorithm import get_display\n",
    "\n",
    "# plt & sns configs.\n",
    "%config InlineBackend.figure_format = 'retina'\n",
    "%matplotlib inline\n",
    "sns.set(font_scale=1.5)\n",
    "plt.style.use('ggplot')\n",
    "rcParams['figure.figsize'] = 8, 4 # figure size in inches"
   ]
  },
  {
   "cell_type": "code",
   "execution_count": 2,
   "metadata": {},
   "outputs": [],
   "source": [
    "path = '../data/'\n",
    "data = pd.read_csv(f'{path}gov_banking_data.csv')"
   ]
  },
  {
   "cell_type": "code",
   "execution_count": null,
   "metadata": {},
   "outputs": [],
   "source": [
    "# Modify arabic text when displayed in a figure.\n",
    "def modify_arabic_display(s):\n",
    "    return get_display(arabic_reshaper.reshape(s.encode('utf-8').decode('utf8')))"
   ]
  },
  {
   "cell_type": "code",
   "execution_count": 3,
   "metadata": {},
   "outputs": [
    {
     "name": "stdout",
     "output_type": "stream",
     "text": [
      "Hello, from Abdulmalik!\n",
      "Hello, from Sara!\n",
      "Hello, from Abdulrahman!\n",
      "Hello, from Amal!\n",
      "Hello, from Lina!\n",
      "Hello, form Saad!\n"
     ]
    }
   ],
   "source": [
    "# Test all team's modules.\n",
    "am_hello()\n",
    "sr_hello()\n",
    "ar_hello()\n",
    "a_hello()\n",
    "l_hello()\n",
    "sa_hello()"
   ]
  }
 ],
 "metadata": {
  "kernelspec": {
   "display_name": "Python 3.9.7 ('base')",
   "language": "python",
   "name": "python3"
  },
  "language_info": {
   "codemirror_mode": {
    "name": "ipython",
    "version": 3
   },
   "file_extension": ".py",
   "mimetype": "text/x-python",
   "name": "python",
   "nbconvert_exporter": "python",
   "pygments_lexer": "ipython3",
   "version": "3.9.12"
  },
  "orig_nbformat": 4,
  "vscode": {
   "interpreter": {
    "hash": "d4d1e4263499bec80672ea0156c357c1ee493ec2b1c70f0acce89fc37c4a6abe"
   }
  }
 },
 "nbformat": 4,
 "nbformat_minor": 2
}
