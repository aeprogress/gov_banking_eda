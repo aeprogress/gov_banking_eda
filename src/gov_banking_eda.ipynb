{
 "cells": [
  {
   "cell_type": "code",
   "execution_count": 4,
   "metadata": {},
   "outputs": [
    {
     "name": "stdout",
     "output_type": "stream",
     "text": [
      "Requirement already satisfied: ipynb in /opt/conda/lib/python3.9/site-packages (0.5.1)\n"
     ]
    }
   ],
   "source": [
    "!pip install ipynb"
   ]
  },
  {
   "cell_type": "code",
   "execution_count": 1,
   "metadata": {},
   "outputs": [
    {
     "name": "stderr",
     "output_type": "stream",
     "text": [
      "/tmp/ipykernel_4382/35472037.py:5: DtypeWarning: Columns (12) have mixed types.Specify dtype option on import or set low_memory=False.\n",
      "  from ipynb.fs.full.abdulrahman_eda import *\n",
      "/tmp/ipykernel_4382/35472037.py:6: DtypeWarning: Columns (12) have mixed types.Specify dtype option on import or set low_memory=False.\n",
      "  from ipynb.fs.full.abdulmalik_eda import *\n",
      "/tmp/ipykernel_4382/35472037.py:7: DtypeWarning: Columns (12) have mixed types.Specify dtype option on import or set low_memory=False.\n",
      "  from ipynb.fs.full.sara_eda import *\n",
      "/tmp/ipykernel_4382/35472037.py:8: DtypeWarning: Columns (12) have mixed types.Specify dtype option on import or set low_memory=False.\n",
      "  from ipynb.fs.full.amal_eda import *\n",
      "/tmp/ipykernel_4382/35472037.py:9: DtypeWarning: Columns (12) have mixed types.Specify dtype option on import or set low_memory=False.\n",
      "  from ipynb.fs.full.lina_eda import *\n",
      "/tmp/ipykernel_4382/35472037.py:10: DtypeWarning: Columns (12) have mixed types.Specify dtype option on import or set low_memory=False.\n",
      "  from ipynb.fs.full.saad_eda import *\n"
     ]
    }
   ],
   "source": [
    "import pandas as pd\n",
    "import numpy as np\n",
    "import matplotlib.pyplot as plt\n",
    "import seaborn as sns\n",
    "from ipynb.fs.full.abdulrahman_eda import *\n",
    "from ipynb.fs.full.abdulmalik_eda import *\n",
    "from ipynb.fs.full.sara_eda import *\n",
    "from ipynb.fs.full.amal_eda import *\n",
    "from ipynb.fs.full.lina_eda import *\n",
    "from ipynb.fs.full.saad_eda import *"
   ]
  },
  {
   "cell_type": "code",
   "execution_count": 9,
   "metadata": {},
   "outputs": [
    {
     "name": "stderr",
     "output_type": "stream",
     "text": [
      "/opt/conda/lib/python3.9/site-packages/IPython/core/interactiveshell.py:3444: DtypeWarning: Columns (12) have mixed types.Specify dtype option on import or set low_memory=False.\n",
      "  exec(code_obj, self.user_global_ns, self.user_ns)\n"
     ]
    }
   ],
   "source": [
    "path = '../data/'\n",
    "data = pd.read_csv(f'{path}gov_banking_data.csv')"
   ]
  },
  {
   "cell_type": "code",
   "execution_count": 3,
   "metadata": {},
   "outputs": [
    {
     "name": "stdout",
     "output_type": "stream",
     "text": [
      "Hello, from Abdulmalik!\n",
      "Hello, from Sara!\n",
      "Hello, from Abdulrahman!\n",
      "Hello, from Amal!\n",
      "Hello, from Lina!\n",
      "Hello, form Saad!\n"
     ]
    }
   ],
   "source": [
    "# Test the all modules.\n",
    "am_hello()\n",
    "sr_hello()\n",
    "ar_hello()\n",
    "a_hello()\n",
    "l_hello()\n",
    "sa_hello()"
   ]
  }
 ],
 "metadata": {
  "kernelspec": {
   "display_name": "Python 3.9.7 ('base')",
   "language": "python",
   "name": "python3"
  },
  "language_info": {
   "codemirror_mode": {
    "name": "ipython",
    "version": 3
   },
   "file_extension": ".py",
   "mimetype": "text/x-python",
   "name": "python",
   "nbconvert_exporter": "python",
   "pygments_lexer": "ipython3",
   "version": "3.9.7"
  },
  "orig_nbformat": 4,
  "vscode": {
   "interpreter": {
    "hash": "d4d1e4263499bec80672ea0156c357c1ee493ec2b1c70f0acce89fc37c4a6abe"
   }
  }
 },
 "nbformat": 4,
 "nbformat_minor": 2
}
